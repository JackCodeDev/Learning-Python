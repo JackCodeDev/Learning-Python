{
 "cells": [
  {
   "cell_type": "code",
   "execution_count": 330,
   "id": "43867921",
   "metadata": {},
   "outputs": [],
   "source": [
    "suits = ('Hearts', 'Diamonds', 'Spades', 'Clubs')\n",
    "ranks = ('Two', 'Three', 'Four', 'Five', 'Six', 'Seven', 'Eight', 'Nine', 'Ten', 'Jack', 'Queen', 'King', 'Ace')\n",
    "values = {'Two':2, 'Three':3, 'Four':4, 'Five':5, 'Six':6, 'Seven':7, 'Eight':8, 'Nine':9, 'Ten':10, 'Jack':10,\n",
    "         'Queen':10, 'King':10, 'Ace':11}"
   ]
  },
  {
   "cell_type": "code",
   "execution_count": 331,
   "id": "9854af68",
   "metadata": {},
   "outputs": [],
   "source": [
    "import random\n",
    "\n",
    "class Card:\n",
    "    \n",
    "    def __init__(self, suit, rank):\n",
    "        self.suit = suit\n",
    "        self.rank = rank\n",
    "    \n",
    "    def __str__(self):\n",
    "        return self.rank + \" of \" + self.suit\n",
    "\n",
    "class Deck:\n",
    "    \n",
    "    def __init__(self):\n",
    "        self.deck = []  # start with an empty list\n",
    "        for suit in suits:\n",
    "            for rank in ranks:\n",
    "                self.deck.append(Card(suit,rank))\n",
    "    \n",
    "    def __str__(self):\n",
    "        deck_comp = ''\n",
    "        for card in self.deck:\n",
    "            deck_comp += \"\\n\" + card.__str__()\n",
    "        return 'The deck has:' + deck_comp\n",
    "    def show_card_deck(self):\n",
    "        print('The deck has: ')\n",
    "        for i in range (len(self.deck)):\n",
    "            print(self.deck[i])\n",
    "\n",
    "    def shuffle(self):\n",
    "        random.shuffle(self.deck)\n",
    "        \n",
    "    def deal(self):\n",
    "        return self.deck.pop()\n",
    "    \n",
    "\n",
    "playing = True"
   ]
  },
  {
   "cell_type": "code",
   "execution_count": 332,
   "id": "365c1d6f",
   "metadata": {},
   "outputs": [],
   "source": [
    "new_deck = Deck()"
   ]
  },
  {
   "cell_type": "code",
   "execution_count": 333,
   "id": "a87a66bd",
   "metadata": {},
   "outputs": [
    {
     "data": {
      "text/plain": [
       "52"
      ]
     },
     "execution_count": 333,
     "metadata": {},
     "output_type": "execute_result"
    }
   ],
   "source": [
    "len(new_deck.deck)"
   ]
  },
  {
   "cell_type": "code",
   "execution_count": 334,
   "id": "5f358d54",
   "metadata": {},
   "outputs": [],
   "source": [
    "class Hand:\n",
    "    def __init__(self):\n",
    "        self.cards = []  # start with an empty list as we did in the Deck class\n",
    "        self.value = 0   # start with zero value\n",
    "        self.aces = 0    # add an attribute to keep track of aces\n",
    "    \n",
    "    def add_card(self,card):\n",
    "        self.cards.append(card)\n",
    "        self.value += values[card.rank]\n",
    "        if card.rank == \"Ace\":\n",
    "            self.aces +=1\n",
    "    def adjust_for_ace(self):\n",
    "        while self.value > 21 and self.aces:\n",
    "            self.value -=10\n",
    "            self.aces -=1\n",
    "            "
   ]
  },
  {
   "cell_type": "code",
   "execution_count": 335,
   "id": "4360c551",
   "metadata": {},
   "outputs": [
    {
     "data": {
      "text/plain": [
       "12"
      ]
     },
     "execution_count": 335,
     "metadata": {},
     "output_type": "execute_result"
    }
   ],
   "source": [
    "test_deck = Deck()\n",
    "test_deck.shuffle()\n",
    "test_player = Hand()\n",
    "test_player.add_card(test_deck.deal())\n",
    "test_player.add_card(test_deck.deal())\n",
    "test_player.value"
   ]
  },
  {
   "cell_type": "code",
   "execution_count": 336,
   "id": "b81930bf",
   "metadata": {},
   "outputs": [
    {
     "name": "stdout",
     "output_type": "stream",
     "text": [
      "Seven of Clubs\n",
      "Five of Clubs\n"
     ]
    },
    {
     "data": {
      "text/plain": [
       "50"
      ]
     },
     "execution_count": 336,
     "metadata": {},
     "output_type": "execute_result"
    }
   ],
   "source": [
    "for card in test_player.cards:\n",
    "    print(card)\n",
    "len(test_deck.deck)"
   ]
  },
  {
   "cell_type": "code",
   "execution_count": 337,
   "id": "826c7dee",
   "metadata": {},
   "outputs": [],
   "source": [
    "class Chips:\n",
    "    \n",
    "    def __init__(self):\n",
    "        self.total = 100  # This can be set to a default value or supplied by a user input\n",
    "        self.bet = 0\n",
    "        \n",
    "    def win_bet(self):\n",
    "        self.total += self.bet\n",
    "    \n",
    "    def lose_bet(self):\n",
    "        self.total -= self.bet"
   ]
  },
  {
   "cell_type": "code",
   "execution_count": 338,
   "id": "d5a63467",
   "metadata": {},
   "outputs": [],
   "source": [
    "def take_bet(object_chips):\n",
    "    \n",
    "    while True:\n",
    "        try:\n",
    "            object_chips.bet = int(input('How many chips would you like to bet? '))\n",
    "        except ValueError:\n",
    "            print('Sorry, a bet must be an integer!')\n",
    "        else:\n",
    "            if object_chips.bet > object_chips.total:\n",
    "                print(\"Sorry, your bet can't exceed\",object_chips.total)\n",
    "            else:\n",
    "                break"
   ]
  },
  {
   "cell_type": "code",
   "execution_count": 339,
   "id": "d053abef",
   "metadata": {},
   "outputs": [
    {
     "name": "stdout",
     "output_type": "stream",
     "text": [
      "100\n"
     ]
    }
   ],
   "source": [
    "chip = Chips()\n",
    "print(chip.total)\n"
   ]
  },
  {
   "cell_type": "code",
   "execution_count": 340,
   "id": "7be4a051",
   "metadata": {},
   "outputs": [],
   "source": [
    "def hit(deck,hand):\n",
    "    \n",
    "    hand.add_card(deck.deal())\n",
    "    hand.adjust_for_ace()"
   ]
  },
  {
   "cell_type": "code",
   "execution_count": 341,
   "id": "ff8880d3",
   "metadata": {},
   "outputs": [
    {
     "data": {
      "text/plain": [
       "49"
      ]
     },
     "execution_count": 341,
     "metadata": {},
     "output_type": "execute_result"
    }
   ],
   "source": [
    "a = hit(test_deck,test_player)\n",
    "len(test_deck.deck)"
   ]
  },
  {
   "cell_type": "code",
   "execution_count": 342,
   "id": "a798eea8",
   "metadata": {},
   "outputs": [
    {
     "name": "stdout",
     "output_type": "stream",
     "text": [
      "Seven of Clubs\n",
      "Five of Clubs\n",
      "Four of Hearts\n"
     ]
    }
   ],
   "source": [
    "for card in test_player.cards:\n",
    "    print(card)"
   ]
  },
  {
   "cell_type": "code",
   "execution_count": 343,
   "id": "09cc9e13",
   "metadata": {},
   "outputs": [
    {
     "data": {
      "text/plain": [
       "16"
      ]
     },
     "execution_count": 343,
     "metadata": {},
     "output_type": "execute_result"
    }
   ],
   "source": [
    "test_player.value"
   ]
  },
  {
   "cell_type": "code",
   "execution_count": 344,
   "id": "20659198",
   "metadata": {},
   "outputs": [],
   "source": [
    "def hit_or_stand(deck,hand):\n",
    "    global playing  # to control an upcoming while loop\n",
    "    \n",
    "    while True:\n",
    "        x = input(\"Would you like to Hit or Stand? Enter 'h' or 's' \")\n",
    "        \n",
    "        if x[0].lower() == 'h':\n",
    "            hit(deck,hand)  # hit() function defined above\n",
    "\n",
    "        elif x[0].lower() == 's':\n",
    "            print(\"Player stands. Dealer is playing.\")\n",
    "            playing = False\n",
    "\n",
    "        else:\n",
    "            print(\"Sorry, please try again.\")\n",
    "            continue\n",
    "        break"
   ]
  },
  {
   "cell_type": "code",
   "execution_count": 345,
   "id": "16a6c94f",
   "metadata": {},
   "outputs": [],
   "source": [
    "def show_some(player,dealer):\n",
    "    print(\"\\nDealer's Hand:\")\n",
    "    print(\" <card hidden>\")\n",
    "    print('',dealer.cards[1])  \n",
    "    print(\"\\nPlayer's Hand:\", *player.cards, sep='\\n ')\n",
    "    \n",
    "def show_all(player,dealer):\n",
    "    print(\"\\nDealer's Hand:\", *dealer.cards, sep='\\n ')\n",
    "    print(\"Dealer's Hand =\",dealer.value)\n",
    "    print(\"\\nPlayer's Hand:\", *player.cards, sep='\\n ')\n",
    "    print(\"Player's Hand =\",player.value)"
   ]
  },
  {
   "cell_type": "code",
   "execution_count": 346,
   "id": "bff79566",
   "metadata": {},
   "outputs": [
    {
     "name": "stdout",
     "output_type": "stream",
     "text": [
      "\n",
      "Player's Hand:\n",
      " Six of Spades\n",
      " King of Hearts\n"
     ]
    }
   ],
   "source": [
    "test_deck = Deck()\n",
    "test_deck.shuffle()\n",
    "test_player = Hand()\n",
    "test_player.add_card(test_deck.deal())\n",
    "test_player.add_card(test_deck.deal())\n",
    "test_player.value\n",
    "\n",
    "print(\"\\nPlayer's Hand:\", *test_player.cards, sep='\\n ')"
   ]
  },
  {
   "cell_type": "code",
   "execution_count": 347,
   "id": "b65acf9e",
   "metadata": {},
   "outputs": [],
   "source": [
    "def player_busts(player,dealer,chips):\n",
    "    print(\"Player busts!\")\n",
    "    chips.lose_bet()\n",
    "\n",
    "def player_wins(player,dealer,chips):\n",
    "    print(\"Player wins!\")\n",
    "    chips.win_bet()\n",
    "\n",
    "def dealer_busts(player,dealer,chips):\n",
    "    print(\"Dealer busts!\")\n",
    "    chips.win_bet()\n",
    "    \n",
    "def dealer_wins(player,dealer,chips):\n",
    "    print(\"Dealer wins!\")\n",
    "    chips.lose_bet()\n",
    "    \n",
    "def push(player,dealer):\n",
    "    print(\"Dealer and Player tie! It's a push.\")"
   ]
  },
  {
   "cell_type": "code",
   "execution_count": null,
   "id": "cb9e8942",
   "metadata": {},
   "outputs": [
    {
     "name": "stdout",
     "output_type": "stream",
     "text": [
      "Welcome to BlackJack! Get as close to 21 as you can without going over!\n",
      "    Dealer hits until she reaches 17. Aces count as 1 or 11.\n",
      "Your coin: 100\n",
      "How many chips would you like to bet? 50\n",
      "\n",
      "Dealer's Hand:\n",
      " <card hidden>\n",
      " Seven of Clubs\n",
      "\n",
      "Player's Hand:\n",
      " Ten of Clubs\n",
      " Jack of Hearts\n",
      "\n",
      "Dealer's Hand:\n",
      " Five of Hearts\n",
      " Seven of Clubs\n",
      " Nine of Hearts\n",
      "Dealer's Hand = 21\n",
      "\n",
      "Player's Hand:\n",
      " Ten of Clubs\n",
      " Jack of Hearts\n",
      "Player's Hand = 20\n",
      "Dealer wins!\n",
      "\n",
      "Player's winnings stand at 50\n",
      "Would you like to play another hand? Enter 'y' or 'n' y\n",
      "Welcome to BlackJack! Get as close to 21 as you can without going over!\n",
      "    Dealer hits until she reaches 17. Aces count as 1 or 11.\n",
      "Your coin: 50\n",
      "How many chips would you like to bet? 50\n",
      "\n",
      "Dealer's Hand:\n",
      " <card hidden>\n",
      " King of Clubs\n",
      "\n",
      "Player's Hand:\n",
      " Five of Spades\n",
      " Five of Diamonds\n",
      "Would you like to Hit or Stand? Enter 'h' or 's' h\n",
      "\n",
      "Dealer's Hand:\n",
      " <card hidden>\n",
      " King of Clubs\n",
      "\n",
      "Player's Hand:\n",
      " Five of Spades\n",
      " Five of Diamonds\n",
      " Ten of Spades\n",
      "Would you like to Hit or Stand? Enter 'h' or 's' s\n",
      "Player stands. Dealer is playing.\n",
      "\n",
      "Dealer's Hand:\n",
      " <card hidden>\n",
      " King of Clubs\n",
      "\n",
      "Player's Hand:\n",
      " Five of Spades\n",
      " Five of Diamonds\n",
      " Ten of Spades\n",
      "\n",
      "Dealer's Hand:\n",
      " Nine of Clubs\n",
      " King of Clubs\n",
      "Dealer's Hand = 19\n",
      "\n",
      "Player's Hand:\n",
      " Five of Spades\n",
      " Five of Diamonds\n",
      " Ten of Spades\n",
      "Player's Hand = 20\n",
      "Player wins!\n",
      "\n",
      "Player's winnings stand at 100\n",
      "Would you like to play another hand? Enter 'y' or 'n' y\n",
      "Welcome to BlackJack! Get as close to 21 as you can without going over!\n",
      "    Dealer hits until she reaches 17. Aces count as 1 or 11.\n",
      "Your coin: 100\n",
      "How many chips would you like to bet? h\n",
      "Sorry, a bet must be an integer!\n",
      "How many chips would you like to bet? 100\n",
      "\n",
      "Dealer's Hand:\n",
      " <card hidden>\n",
      " Ace of Hearts\n",
      "\n",
      "Player's Hand:\n",
      " Seven of Diamonds\n",
      " Queen of Spades\n",
      "Would you like to Hit or Stand? Enter 'h' or 's' s\n",
      "Player stands. Dealer is playing.\n",
      "\n",
      "Dealer's Hand:\n",
      " <card hidden>\n",
      " Ace of Hearts\n",
      "\n",
      "Player's Hand:\n",
      " Seven of Diamonds\n",
      " Queen of Spades\n",
      "\n",
      "Dealer's Hand:\n",
      " King of Hearts\n",
      " Ace of Hearts\n",
      "Dealer's Hand = 21\n",
      "\n",
      "Player's Hand:\n",
      " Seven of Diamonds\n",
      " Queen of Spades\n",
      "Player's Hand = 17\n",
      "Dealer wins!\n",
      "\n",
      "Player's winnings stand at 0\n",
      "Game Over!\n",
      "Would you like to play another hand? Enter 'y' or 'n' y\n",
      "Welcome to BlackJack! Get as close to 21 as you can without going over!\n",
      "    Dealer hits until she reaches 17. Aces count as 1 or 11.\n",
      "Your coin: 100\n"
     ]
    }
   ],
   "source": [
    "player_chips = Chips()  # remember the default value is 100    \n",
    "while True:\n",
    "    # Print an opening statement\n",
    "    print('Welcome to BlackJack! Get as close to 21 as you can without going over!\\n\\\n",
    "    Dealer hits until she reaches 17. Aces count as 1 or 11.')\n",
    "    \n",
    "    # Create & shuffle the deck, deal two cards to each player\n",
    "    deck = Deck()\n",
    "    deck.shuffle()\n",
    "    \n",
    "    player_hand = Hand()\n",
    "    player_hand.add_card(deck.deal())\n",
    "    player_hand.add_card(deck.deal())\n",
    "    \n",
    "    dealer_hand = Hand()\n",
    "    dealer_hand.add_card(deck.deal())\n",
    "    dealer_hand.add_card(deck.deal())\n",
    "            \n",
    "    # Set up the Player's chips\n",
    "\n",
    "    print(\"Your coin: \" + str(player_chips.total))\n",
    "    # Prompt the Player for their bet\n",
    "    take_bet(player_chips)\n",
    "    \n",
    "    # Show cards (but keep one dealer card hidden)\n",
    "    show_some(player_hand,dealer_hand)\n",
    "    \n",
    "    while playing:  # recall this variable from our hit_or_stand function\n",
    "        \n",
    "        # Prompt for Player to Hit or Stand\n",
    "        hit_or_stand(deck,player_hand) \n",
    "        \n",
    "        # Show cards (but keep one dealer card hidden)\n",
    "        show_some(player_hand,dealer_hand)  \n",
    "        \n",
    "        # If player's hand exceeds 21, run player_busts() and break out of loop\n",
    "        if player_hand.value > 21:\n",
    "            player_busts(player_hand,dealer_hand,player_chips)\n",
    "            break        \n",
    "\n",
    "\n",
    "    # If Player hasn't busted, play Dealer's hand until Dealer reaches 17 \n",
    "    if player_hand.value <= 21:\n",
    "        \n",
    "        while dealer_hand.value < 17:\n",
    "            hit(deck,dealer_hand)    \n",
    "    \n",
    "        # Show all cards\n",
    "        show_all(player_hand,dealer_hand)\n",
    "        \n",
    "        # Run different winning scenarios\n",
    "        if dealer_hand.value > 21:\n",
    "            dealer_busts(player_hand,dealer_hand,player_chips)\n",
    "            \n",
    "        elif dealer_hand.value > player_hand.value:\n",
    "            dealer_wins(player_hand,dealer_hand,player_chips)\n",
    "\n",
    "        elif dealer_hand.value < player_hand.value:\n",
    "            player_wins(player_hand,dealer_hand,player_chips)\n",
    "\n",
    "        else:\n",
    "            push(player_hand,dealer_hand)        \n",
    "    \n",
    "    # Inform Player of their chips total \n",
    "    print(\"\\nPlayer's winnings stand at\",player_chips.total)\n",
    "    if player_chips.total == 0:\n",
    "        print(\"Game Over!\")\n",
    "    # Ask to play again\n",
    "    new_game = input(\"Would you like to play another hand? Enter 'y' or 'n' \")\n",
    "    if new_game[0].lower()=='y':\n",
    "        if player_chips.total == 0:\n",
    "            player_chips.total = 100\n",
    "        playing=True\n",
    "        continue\n",
    "    else:\n",
    "        print(\"Thanks for playing!\")\n",
    "        break"
   ]
  },
  {
   "cell_type": "code",
   "execution_count": null,
   "id": "6ca51a18",
   "metadata": {},
   "outputs": [],
   "source": []
  },
  {
   "cell_type": "code",
   "execution_count": null,
   "id": "915da833",
   "metadata": {},
   "outputs": [],
   "source": []
  },
  {
   "cell_type": "code",
   "execution_count": null,
   "id": "5f5788f6",
   "metadata": {},
   "outputs": [],
   "source": []
  },
  {
   "cell_type": "code",
   "execution_count": null,
   "id": "6e95e772",
   "metadata": {},
   "outputs": [],
   "source": []
  }
 ],
 "metadata": {
  "kernelspec": {
   "display_name": "Python 3 (ipykernel)",
   "language": "python",
   "name": "python3"
  },
  "language_info": {
   "codemirror_mode": {
    "name": "ipython",
    "version": 3
   },
   "file_extension": ".py",
   "mimetype": "text/x-python",
   "name": "python",
   "nbconvert_exporter": "python",
   "pygments_lexer": "ipython3",
   "version": "3.9.7"
  }
 },
 "nbformat": 4,
 "nbformat_minor": 5
}
